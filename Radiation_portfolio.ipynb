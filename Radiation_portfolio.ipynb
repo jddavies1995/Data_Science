{
 "cells": [
  {
   "cell_type": "code",
   "execution_count": 15,
   "id": "c251e29b",
   "metadata": {},
   "outputs": [
    {
     "name": "stdout",
     "output_type": "stream",
     "text": [
      "Location: city_cent\n",
      "Average: 24.0\n",
      "Standard Deviation: 5.244044240850758\n",
      "\n",
      "Location: ind_zone\n",
      "Average: 34.8\n",
      "Standard Deviation: 3.96232255123179\n",
      "\n",
      "Location: res_dist\n",
      "Average: 15.8\n",
      "Standard Deviation: 3.1937438845342623\n",
      "\n",
      "Location: rur_out\n",
      "Average: 11.8\n",
      "Standard Deviation: 3.7013511046643495\n",
      "\n",
      "Location: downtown\n",
      "Average: 22.4\n",
      "Standard Deviation: 3.2093613071762426\n",
      "\n"
     ]
    }
   ],
   "source": [
    "import statistics as st\n",
    "\n",
    "radiation = {'city_cent': [22, 19, 20, 31, 28],\n",
    "            'ind_zone': [35, 32, 30, 37, 40],\n",
    "            'res_dist': [15, 12, 18, 20, 14],\n",
    "            'rur_out': [9, 13, 16, 14, 7],\n",
    "            'downtown': [25, 18, 22, 21, 26],\n",
    "}\n",
    "\n",
    "# Calculate average\n",
    "for key, values in radiation.items():\n",
    "    average = sum(values) / len(values)\n",
    "    std_dev = st.stdev(values)\n",
    "    \n",
    "    print(f\"Location: {key}\")\n",
    "    print(f\"Average: {average}\")\n",
    "    print(f\"Standard Deviation: {std_dev}\\n\")"
   ]
  },
  {
   "cell_type": "code",
   "execution_count": 27,
   "id": "9bc7f452",
   "metadata": {},
   "outputs": [
    {
     "name": "stdout",
     "output_type": "stream",
     "text": [
      "Do you have new measurements to add? Y/N: N\n",
      "Here is the current measurement list\n",
      "{'city_cent': [22, 19, 20, 31, 28, 25, 25.0], 'ind_zone': [35, 32, 30, 37, 40], 'res_dist': [15, 12, 18, 20, 14], 'rur_out': [9, 13, 16, 14, 7], 'downtown': [25, 18, 22, 21, 26]}\n"
     ]
    }
   ],
   "source": [
    "while True:\n",
    "    ammend = input(\"Do you have new measurements to add? Y/N: \")\n",
    "\n",
    "    if ammend.upper() == \"Y\":\n",
    "        location = input(\"What is the location? city_cent, ind_zone, res_dist, rur_out or downtown?\")\n",
    "        measurement = input(\"What was the measurement?\")\n",
    "\n",
    "        if location in radiation:\n",
    "            try:\n",
    "                measurement = float(measurement)\n",
    "                radiation[location].append(measurement)\n",
    "                print(\"Measurement added successfully.\")\n",
    "            except ValueError:\n",
    "                print(\"Invalid measurement. Please enter a valid number.\")\n",
    "\n",
    "        else:\n",
    "            print(\"Location invalid. Please try again\")\n",
    "        print(\"The new measurement list is:\")\n",
    "        print(radiation)\n",
    "\n",
    "\n",
    "    elif ammend.upper() == \"N\":\n",
    "        print(\"Here is the current measurement list\")\n",
    "        print(radiation)\n",
    "        break\n",
    "\n",
    "\n",
    "    else: \n",
    "        print(\"Invalid entry, please try again\")"
   ]
  },
  {
   "cell_type": "code",
   "execution_count": null,
   "id": "81a06384",
   "metadata": {},
   "outputs": [],
   "source": []
  }
 ],
 "metadata": {
  "kernelspec": {
   "display_name": "Python 3 (ipykernel)",
   "language": "python",
   "name": "python3"
  },
  "language_info": {
   "codemirror_mode": {
    "name": "ipython",
    "version": 3
   },
   "file_extension": ".py",
   "mimetype": "text/x-python",
   "name": "python",
   "nbconvert_exporter": "python",
   "pygments_lexer": "ipython3",
   "version": "3.9.12"
  }
 },
 "nbformat": 4,
 "nbformat_minor": 5
}
